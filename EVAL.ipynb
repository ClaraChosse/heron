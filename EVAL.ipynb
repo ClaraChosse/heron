{
  "cells": [
    {
      "cell_type": "markdown",
      "id": "6849defd-c8af-4fba-b2e1-9f317fec8068",
      "metadata": {
        "id": "6849defd-c8af-4fba-b2e1-9f317fec8068"
      },
      "source": [
        "# Loan Application"
      ]
    },
    {
      "cell_type": "code",
      "execution_count": 1,
      "id": "d1ec5fb8-ecef-4a1e-8233-83d8089ae249",
      "metadata": {
        "tags": [],
        "id": "d1ec5fb8-ecef-4a1e-8233-83d8089ae249"
      },
      "outputs": [],
      "source": [
        "import pandas as pd\n",
        "import numpy as np\n",
        "import jax\n",
        "import plotly.express as px\n",
        "\n",
        "# Set JAX as the backend for Keras\n",
        "import os\n",
        "os.environ[\"KERAS_BACKEND\"] = \"jax\"\n",
        "import keras"
      ]
    },
    {
      "cell_type": "markdown",
      "id": "c814a1e6-b216-4fea-af7c-418eb73e44aa",
      "metadata": {
        "id": "c814a1e6-b216-4fea-af7c-418eb73e44aa"
      },
      "source": [
        "### Load the dataset"
      ]
    },
    {
      "cell_type": "code",
      "execution_count": 5,
      "id": "5dbc9410-ee3a-401b-aa87-9d8f96fb200a",
      "metadata": {
        "tags": [],
        "id": "5dbc9410-ee3a-401b-aa87-9d8f96fb200a"
      },
      "outputs": [],
      "source": [
        "# charger le dataset dans un DataFRrame, tips  => https://pandas.pydata.org/pandas-docs/stable/reference/api/pandas.read_csv.html\n",
        "Loan_Data = pd.read_csv('Loan_Data.csv', sep=';')"
      ]
    },
    {
      "cell_type": "code",
      "source": [
        "Loan_Data.head(5)"
      ],
      "metadata": {
        "id": "ie-RC2N8seZE",
        "outputId": "fd627fe3-2f49-4e69-d453-58ebacc5149f",
        "colab": {
          "base_uri": "https://localhost:8080/",
          "height": 241
        }
      },
      "id": "ie-RC2N8seZE",
      "execution_count": 6,
      "outputs": [
        {
          "output_type": "execute_result",
          "data": {
            "text/plain": [
              "    Loan_ID Gender Married  Dependents     Education Self_Employed  \\\n",
              "0  LP001002   Male      No           0      Graduate            No   \n",
              "1  LP001003   Male     Yes           1      Graduate            No   \n",
              "2  LP001005   Male     Yes           0      Graduate           Yes   \n",
              "3  LP001006   Male     Yes           0  Not Graduate            No   \n",
              "4  LP001008   Male      No           0      Graduate            No   \n",
              "\n",
              "   ApplicantIncome  CoapplicantIncome  LoanAmount  Loan_Amount_Term  \\\n",
              "0             5849                0.0           0               360   \n",
              "1             4583             1508.0         128               360   \n",
              "2             3000                0.0          66               360   \n",
              "3             2583             2358.0         120               360   \n",
              "4             6000                0.0         141               360   \n",
              "\n",
              "   Credit_History Property_Area  Loan_Status  \n",
              "0               1         Urban            1  \n",
              "1               1         Rural            0  \n",
              "2               1         Urban            1  \n",
              "3               1         Urban            0  \n",
              "4               1         Urban            1  "
            ],
            "text/html": [
              "\n",
              "  <div id=\"df-6a76541a-c2f2-41b4-8a76-31dd5cd027a0\" class=\"colab-df-container\">\n",
              "    <div>\n",
              "<style scoped>\n",
              "    .dataframe tbody tr th:only-of-type {\n",
              "        vertical-align: middle;\n",
              "    }\n",
              "\n",
              "    .dataframe tbody tr th {\n",
              "        vertical-align: top;\n",
              "    }\n",
              "\n",
              "    .dataframe thead th {\n",
              "        text-align: right;\n",
              "    }\n",
              "</style>\n",
              "<table border=\"1\" class=\"dataframe\">\n",
              "  <thead>\n",
              "    <tr style=\"text-align: right;\">\n",
              "      <th></th>\n",
              "      <th>Loan_ID</th>\n",
              "      <th>Gender</th>\n",
              "      <th>Married</th>\n",
              "      <th>Dependents</th>\n",
              "      <th>Education</th>\n",
              "      <th>Self_Employed</th>\n",
              "      <th>ApplicantIncome</th>\n",
              "      <th>CoapplicantIncome</th>\n",
              "      <th>LoanAmount</th>\n",
              "      <th>Loan_Amount_Term</th>\n",
              "      <th>Credit_History</th>\n",
              "      <th>Property_Area</th>\n",
              "      <th>Loan_Status</th>\n",
              "    </tr>\n",
              "  </thead>\n",
              "  <tbody>\n",
              "    <tr>\n",
              "      <th>0</th>\n",
              "      <td>LP001002</td>\n",
              "      <td>Male</td>\n",
              "      <td>No</td>\n",
              "      <td>0</td>\n",
              "      <td>Graduate</td>\n",
              "      <td>No</td>\n",
              "      <td>5849</td>\n",
              "      <td>0.0</td>\n",
              "      <td>0</td>\n",
              "      <td>360</td>\n",
              "      <td>1</td>\n",
              "      <td>Urban</td>\n",
              "      <td>1</td>\n",
              "    </tr>\n",
              "    <tr>\n",
              "      <th>1</th>\n",
              "      <td>LP001003</td>\n",
              "      <td>Male</td>\n",
              "      <td>Yes</td>\n",
              "      <td>1</td>\n",
              "      <td>Graduate</td>\n",
              "      <td>No</td>\n",
              "      <td>4583</td>\n",
              "      <td>1508.0</td>\n",
              "      <td>128</td>\n",
              "      <td>360</td>\n",
              "      <td>1</td>\n",
              "      <td>Rural</td>\n",
              "      <td>0</td>\n",
              "    </tr>\n",
              "    <tr>\n",
              "      <th>2</th>\n",
              "      <td>LP001005</td>\n",
              "      <td>Male</td>\n",
              "      <td>Yes</td>\n",
              "      <td>0</td>\n",
              "      <td>Graduate</td>\n",
              "      <td>Yes</td>\n",
              "      <td>3000</td>\n",
              "      <td>0.0</td>\n",
              "      <td>66</td>\n",
              "      <td>360</td>\n",
              "      <td>1</td>\n",
              "      <td>Urban</td>\n",
              "      <td>1</td>\n",
              "    </tr>\n",
              "    <tr>\n",
              "      <th>3</th>\n",
              "      <td>LP001006</td>\n",
              "      <td>Male</td>\n",
              "      <td>Yes</td>\n",
              "      <td>0</td>\n",
              "      <td>Not Graduate</td>\n",
              "      <td>No</td>\n",
              "      <td>2583</td>\n",
              "      <td>2358.0</td>\n",
              "      <td>120</td>\n",
              "      <td>360</td>\n",
              "      <td>1</td>\n",
              "      <td>Urban</td>\n",
              "      <td>0</td>\n",
              "    </tr>\n",
              "    <tr>\n",
              "      <th>4</th>\n",
              "      <td>LP001008</td>\n",
              "      <td>Male</td>\n",
              "      <td>No</td>\n",
              "      <td>0</td>\n",
              "      <td>Graduate</td>\n",
              "      <td>No</td>\n",
              "      <td>6000</td>\n",
              "      <td>0.0</td>\n",
              "      <td>141</td>\n",
              "      <td>360</td>\n",
              "      <td>1</td>\n",
              "      <td>Urban</td>\n",
              "      <td>1</td>\n",
              "    </tr>\n",
              "  </tbody>\n",
              "</table>\n",
              "</div>\n",
              "    <div class=\"colab-df-buttons\">\n",
              "\n",
              "  <div class=\"colab-df-container\">\n",
              "    <button class=\"colab-df-convert\" onclick=\"convertToInteractive('df-6a76541a-c2f2-41b4-8a76-31dd5cd027a0')\"\n",
              "            title=\"Convert this dataframe to an interactive table.\"\n",
              "            style=\"display:none;\">\n",
              "\n",
              "  <svg xmlns=\"http://www.w3.org/2000/svg\" height=\"24px\" viewBox=\"0 -960 960 960\">\n",
              "    <path d=\"M120-120v-720h720v720H120Zm60-500h600v-160H180v160Zm220 220h160v-160H400v160Zm0 220h160v-160H400v160ZM180-400h160v-160H180v160Zm440 0h160v-160H620v160ZM180-180h160v-160H180v160Zm440 0h160v-160H620v160Z\"/>\n",
              "  </svg>\n",
              "    </button>\n",
              "\n",
              "  <style>\n",
              "    .colab-df-container {\n",
              "      display:flex;\n",
              "      gap: 12px;\n",
              "    }\n",
              "\n",
              "    .colab-df-convert {\n",
              "      background-color: #E8F0FE;\n",
              "      border: none;\n",
              "      border-radius: 50%;\n",
              "      cursor: pointer;\n",
              "      display: none;\n",
              "      fill: #1967D2;\n",
              "      height: 32px;\n",
              "      padding: 0 0 0 0;\n",
              "      width: 32px;\n",
              "    }\n",
              "\n",
              "    .colab-df-convert:hover {\n",
              "      background-color: #E2EBFA;\n",
              "      box-shadow: 0px 1px 2px rgba(60, 64, 67, 0.3), 0px 1px 3px 1px rgba(60, 64, 67, 0.15);\n",
              "      fill: #174EA6;\n",
              "    }\n",
              "\n",
              "    .colab-df-buttons div {\n",
              "      margin-bottom: 4px;\n",
              "    }\n",
              "\n",
              "    [theme=dark] .colab-df-convert {\n",
              "      background-color: #3B4455;\n",
              "      fill: #D2E3FC;\n",
              "    }\n",
              "\n",
              "    [theme=dark] .colab-df-convert:hover {\n",
              "      background-color: #434B5C;\n",
              "      box-shadow: 0px 1px 3px 1px rgba(0, 0, 0, 0.15);\n",
              "      filter: drop-shadow(0px 1px 2px rgba(0, 0, 0, 0.3));\n",
              "      fill: #FFFFFF;\n",
              "    }\n",
              "  </style>\n",
              "\n",
              "    <script>\n",
              "      const buttonEl =\n",
              "        document.querySelector('#df-6a76541a-c2f2-41b4-8a76-31dd5cd027a0 button.colab-df-convert');\n",
              "      buttonEl.style.display =\n",
              "        google.colab.kernel.accessAllowed ? 'block' : 'none';\n",
              "\n",
              "      async function convertToInteractive(key) {\n",
              "        const element = document.querySelector('#df-6a76541a-c2f2-41b4-8a76-31dd5cd027a0');\n",
              "        const dataTable =\n",
              "          await google.colab.kernel.invokeFunction('convertToInteractive',\n",
              "                                                    [key], {});\n",
              "        if (!dataTable) return;\n",
              "\n",
              "        const docLinkHtml = 'Like what you see? Visit the ' +\n",
              "          '<a target=\"_blank\" href=https://colab.research.google.com/notebooks/data_table.ipynb>data table notebook</a>'\n",
              "          + ' to learn more about interactive tables.';\n",
              "        element.innerHTML = '';\n",
              "        dataTable['output_type'] = 'display_data';\n",
              "        await google.colab.output.renderOutput(dataTable, element);\n",
              "        const docLink = document.createElement('div');\n",
              "        docLink.innerHTML = docLinkHtml;\n",
              "        element.appendChild(docLink);\n",
              "      }\n",
              "    </script>\n",
              "  </div>\n",
              "\n",
              "\n",
              "<div id=\"df-25e76cc2-7a17-49f0-8a17-9fde1c60101f\">\n",
              "  <button class=\"colab-df-quickchart\" onclick=\"quickchart('df-25e76cc2-7a17-49f0-8a17-9fde1c60101f')\"\n",
              "            title=\"Suggest charts\"\n",
              "            style=\"display:none;\">\n",
              "\n",
              "<svg xmlns=\"http://www.w3.org/2000/svg\" height=\"24px\"viewBox=\"0 0 24 24\"\n",
              "     width=\"24px\">\n",
              "    <g>\n",
              "        <path d=\"M19 3H5c-1.1 0-2 .9-2 2v14c0 1.1.9 2 2 2h14c1.1 0 2-.9 2-2V5c0-1.1-.9-2-2-2zM9 17H7v-7h2v7zm4 0h-2V7h2v10zm4 0h-2v-4h2v4z\"/>\n",
              "    </g>\n",
              "</svg>\n",
              "  </button>\n",
              "\n",
              "<style>\n",
              "  .colab-df-quickchart {\n",
              "      --bg-color: #E8F0FE;\n",
              "      --fill-color: #1967D2;\n",
              "      --hover-bg-color: #E2EBFA;\n",
              "      --hover-fill-color: #174EA6;\n",
              "      --disabled-fill-color: #AAA;\n",
              "      --disabled-bg-color: #DDD;\n",
              "  }\n",
              "\n",
              "  [theme=dark] .colab-df-quickchart {\n",
              "      --bg-color: #3B4455;\n",
              "      --fill-color: #D2E3FC;\n",
              "      --hover-bg-color: #434B5C;\n",
              "      --hover-fill-color: #FFFFFF;\n",
              "      --disabled-bg-color: #3B4455;\n",
              "      --disabled-fill-color: #666;\n",
              "  }\n",
              "\n",
              "  .colab-df-quickchart {\n",
              "    background-color: var(--bg-color);\n",
              "    border: none;\n",
              "    border-radius: 50%;\n",
              "    cursor: pointer;\n",
              "    display: none;\n",
              "    fill: var(--fill-color);\n",
              "    height: 32px;\n",
              "    padding: 0;\n",
              "    width: 32px;\n",
              "  }\n",
              "\n",
              "  .colab-df-quickchart:hover {\n",
              "    background-color: var(--hover-bg-color);\n",
              "    box-shadow: 0 1px 2px rgba(60, 64, 67, 0.3), 0 1px 3px 1px rgba(60, 64, 67, 0.15);\n",
              "    fill: var(--button-hover-fill-color);\n",
              "  }\n",
              "\n",
              "  .colab-df-quickchart-complete:disabled,\n",
              "  .colab-df-quickchart-complete:disabled:hover {\n",
              "    background-color: var(--disabled-bg-color);\n",
              "    fill: var(--disabled-fill-color);\n",
              "    box-shadow: none;\n",
              "  }\n",
              "\n",
              "  .colab-df-spinner {\n",
              "    border: 2px solid var(--fill-color);\n",
              "    border-color: transparent;\n",
              "    border-bottom-color: var(--fill-color);\n",
              "    animation:\n",
              "      spin 1s steps(1) infinite;\n",
              "  }\n",
              "\n",
              "  @keyframes spin {\n",
              "    0% {\n",
              "      border-color: transparent;\n",
              "      border-bottom-color: var(--fill-color);\n",
              "      border-left-color: var(--fill-color);\n",
              "    }\n",
              "    20% {\n",
              "      border-color: transparent;\n",
              "      border-left-color: var(--fill-color);\n",
              "      border-top-color: var(--fill-color);\n",
              "    }\n",
              "    30% {\n",
              "      border-color: transparent;\n",
              "      border-left-color: var(--fill-color);\n",
              "      border-top-color: var(--fill-color);\n",
              "      border-right-color: var(--fill-color);\n",
              "    }\n",
              "    40% {\n",
              "      border-color: transparent;\n",
              "      border-right-color: var(--fill-color);\n",
              "      border-top-color: var(--fill-color);\n",
              "    }\n",
              "    60% {\n",
              "      border-color: transparent;\n",
              "      border-right-color: var(--fill-color);\n",
              "    }\n",
              "    80% {\n",
              "      border-color: transparent;\n",
              "      border-right-color: var(--fill-color);\n",
              "      border-bottom-color: var(--fill-color);\n",
              "    }\n",
              "    90% {\n",
              "      border-color: transparent;\n",
              "      border-bottom-color: var(--fill-color);\n",
              "    }\n",
              "  }\n",
              "</style>\n",
              "\n",
              "  <script>\n",
              "    async function quickchart(key) {\n",
              "      const quickchartButtonEl =\n",
              "        document.querySelector('#' + key + ' button');\n",
              "      quickchartButtonEl.disabled = true;  // To prevent multiple clicks.\n",
              "      quickchartButtonEl.classList.add('colab-df-spinner');\n",
              "      try {\n",
              "        const charts = await google.colab.kernel.invokeFunction(\n",
              "            'suggestCharts', [key], {});\n",
              "      } catch (error) {\n",
              "        console.error('Error during call to suggestCharts:', error);\n",
              "      }\n",
              "      quickchartButtonEl.classList.remove('colab-df-spinner');\n",
              "      quickchartButtonEl.classList.add('colab-df-quickchart-complete');\n",
              "    }\n",
              "    (() => {\n",
              "      let quickchartButtonEl =\n",
              "        document.querySelector('#df-25e76cc2-7a17-49f0-8a17-9fde1c60101f button');\n",
              "      quickchartButtonEl.style.display =\n",
              "        google.colab.kernel.accessAllowed ? 'block' : 'none';\n",
              "    })();\n",
              "  </script>\n",
              "</div>\n",
              "\n",
              "    </div>\n",
              "  </div>\n"
            ],
            "application/vnd.google.colaboratory.intrinsic+json": {
              "type": "dataframe",
              "variable_name": "Loan_Data",
              "summary": "{\n  \"name\": \"Loan_Data\",\n  \"rows\": 614,\n  \"fields\": [\n    {\n      \"column\": \"Loan_ID\",\n      \"properties\": {\n        \"dtype\": \"string\",\n        \"num_unique_values\": 614,\n        \"samples\": [\n          \"LP002139\",\n          \"LP002223\",\n          \"LP001570\"\n        ],\n        \"semantic_type\": \"\",\n        \"description\": \"\"\n      }\n    },\n    {\n      \"column\": \"Gender\",\n      \"properties\": {\n        \"dtype\": \"category\",\n        \"num_unique_values\": 2,\n        \"samples\": [\n          \"Female\",\n          \"Male\"\n        ],\n        \"semantic_type\": \"\",\n        \"description\": \"\"\n      }\n    },\n    {\n      \"column\": \"Married\",\n      \"properties\": {\n        \"dtype\": \"category\",\n        \"num_unique_values\": 2,\n        \"samples\": [\n          \"Yes\",\n          \"No\"\n        ],\n        \"semantic_type\": \"\",\n        \"description\": \"\"\n      }\n    },\n    {\n      \"column\": \"Dependents\",\n      \"properties\": {\n        \"dtype\": \"number\",\n        \"std\": 1,\n        \"min\": 0,\n        \"max\": 3,\n        \"num_unique_values\": 4,\n        \"samples\": [\n          1,\n          3\n        ],\n        \"semantic_type\": \"\",\n        \"description\": \"\"\n      }\n    },\n    {\n      \"column\": \"Education\",\n      \"properties\": {\n        \"dtype\": \"category\",\n        \"num_unique_values\": 2,\n        \"samples\": [\n          \"Not Graduate\",\n          \"Graduate\"\n        ],\n        \"semantic_type\": \"\",\n        \"description\": \"\"\n      }\n    },\n    {\n      \"column\": \"Self_Employed\",\n      \"properties\": {\n        \"dtype\": \"category\",\n        \"num_unique_values\": 2,\n        \"samples\": [\n          \"Yes\",\n          \"No\"\n        ],\n        \"semantic_type\": \"\",\n        \"description\": \"\"\n      }\n    },\n    {\n      \"column\": \"ApplicantIncome\",\n      \"properties\": {\n        \"dtype\": \"number\",\n        \"std\": 6109,\n        \"min\": 150,\n        \"max\": 81000,\n        \"num_unique_values\": 505,\n        \"samples\": [\n          8333,\n          4342\n        ],\n        \"semantic_type\": \"\",\n        \"description\": \"\"\n      }\n    },\n    {\n      \"column\": \"CoapplicantIncome\",\n      \"properties\": {\n        \"dtype\": \"number\",\n        \"std\": 2926.2483692241917,\n        \"min\": 0.0,\n        \"max\": 41667.0,\n        \"num_unique_values\": 287,\n        \"samples\": [\n          1840.0,\n          2042.0\n        ],\n        \"semantic_type\": \"\",\n        \"description\": \"\"\n      }\n    },\n    {\n      \"column\": \"LoanAmount\",\n      \"properties\": {\n        \"dtype\": \"number\",\n        \"std\": 88,\n        \"min\": 0,\n        \"max\": 700,\n        \"num_unique_values\": 204,\n        \"samples\": [\n          125,\n          349\n        ],\n        \"semantic_type\": \"\",\n        \"description\": \"\"\n      }\n    },\n    {\n      \"column\": \"Loan_Amount_Term\",\n      \"properties\": {\n        \"dtype\": \"number\",\n        \"std\": 64,\n        \"min\": 12,\n        \"max\": 480,\n        \"num_unique_values\": 10,\n        \"samples\": [\n          84,\n          120\n        ],\n        \"semantic_type\": \"\",\n        \"description\": \"\"\n      }\n    },\n    {\n      \"column\": \"Credit_History\",\n      \"properties\": {\n        \"dtype\": \"number\",\n        \"std\": 0,\n        \"min\": 0,\n        \"max\": 1,\n        \"num_unique_values\": 2,\n        \"samples\": [\n          0,\n          1\n        ],\n        \"semantic_type\": \"\",\n        \"description\": \"\"\n      }\n    },\n    {\n      \"column\": \"Property_Area\",\n      \"properties\": {\n        \"dtype\": \"category\",\n        \"num_unique_values\": 2,\n        \"samples\": [\n          \"Rural\",\n          \"Urban\"\n        ],\n        \"semantic_type\": \"\",\n        \"description\": \"\"\n      }\n    },\n    {\n      \"column\": \"Loan_Status\",\n      \"properties\": {\n        \"dtype\": \"number\",\n        \"std\": 0,\n        \"min\": 0,\n        \"max\": 1,\n        \"num_unique_values\": 2,\n        \"samples\": [\n          0,\n          1\n        ],\n        \"semantic_type\": \"\",\n        \"description\": \"\"\n      }\n    }\n  ]\n}"
            }
          },
          "metadata": {},
          "execution_count": 6
        }
      ]
    },
    {
      "cell_type": "code",
      "execution_count": 7,
      "id": "4cb04f76-7197-4dda-afc9-1d367e0e14eb",
      "metadata": {
        "tags": [],
        "id": "4cb04f76-7197-4dda-afc9-1d367e0e14eb"
      },
      "outputs": [],
      "source": [
        "# la colonne cible est \"Loan_Status\", le reste sont des features donc:\n",
        "X = Loan_Data.drop(columns=\"Loan_Status\").set_index(\"Loan_ID\")\n",
        "y = Loan_Data[\"Loan_Status\"]"
      ]
    },
    {
      "cell_type": "code",
      "source": [
        "print(X.isnull().sum())\n",
        "#Pas de valeur manquantes"
      ],
      "metadata": {
        "id": "TEAauwE1tFhp",
        "outputId": "465e06d2-5a46-4c9b-eb49-c47b72b4f1aa",
        "colab": {
          "base_uri": "https://localhost:8080/"
        }
      },
      "id": "TEAauwE1tFhp",
      "execution_count": 10,
      "outputs": [
        {
          "output_type": "stream",
          "name": "stdout",
          "text": [
            "Gender               0\n",
            "Married              0\n",
            "Dependents           0\n",
            "Education            0\n",
            "Self_Employed        0\n",
            "ApplicantIncome      0\n",
            "CoapplicantIncome    0\n",
            "LoanAmount           0\n",
            "Loan_Amount_Term     0\n",
            "Credit_History       0\n",
            "Property_Area        0\n",
            "dtype: int64\n",
            "0\n"
          ]
        }
      ]
    },
    {
      "cell_type": "markdown",
      "id": "0e41faaa-3ce0-437f-8010-7e1e262cc984",
      "metadata": {
        "id": "0e41faaa-3ce0-437f-8010-7e1e262cc984"
      },
      "source": [
        "### Let's have a look at it"
      ]
    },
    {
      "cell_type": "code",
      "execution_count": 13,
      "id": "3a0f8a3a-84f2-4114-a076-0f98d89ae6f4",
      "metadata": {
        "id": "3a0f8a3a-84f2-4114-a076-0f98d89ae6f4",
        "outputId": "323d38bf-c41c-4921-bcca-1a4ae6ee98a1",
        "colab": {
          "base_uri": "https://localhost:8080/"
        }
      },
      "outputs": [
        {
          "output_type": "stream",
          "name": "stdout",
          "text": [
            "         Gender Married  Dependents     Education Self_Employed  \\\n",
            "Loan_ID                                                           \n",
            "LP001002   Male      No           0      Graduate            No   \n",
            "LP001003   Male     Yes           1      Graduate            No   \n",
            "LP001005   Male     Yes           0      Graduate           Yes   \n",
            "LP001006   Male     Yes           0  Not Graduate            No   \n",
            "LP001008   Male      No           0      Graduate            No   \n",
            "\n",
            "          ApplicantIncome  CoapplicantIncome  LoanAmount  Loan_Amount_Term  \\\n",
            "Loan_ID                                                                      \n",
            "LP001002             5849                0.0           0               360   \n",
            "LP001003             4583             1508.0         128               360   \n",
            "LP001005             3000                0.0          66               360   \n",
            "LP001006             2583             2358.0         120               360   \n",
            "LP001008             6000                0.0         141               360   \n",
            "\n",
            "          Credit_History Property_Area  \n",
            "Loan_ID                                 \n",
            "LP001002               1         Urban  \n",
            "LP001003               1         Rural  \n",
            "LP001005               1         Urban  \n",
            "LP001006               1         Urban  \n",
            "LP001008               1         Urban  \n"
          ]
        }
      ],
      "source": [
        "# print X and y\n",
        "print(X.head())"
      ]
    },
    {
      "cell_type": "code",
      "source": [
        "print(y.head())"
      ],
      "metadata": {
        "id": "bA4Luxa_tfif"
      },
      "id": "bA4Luxa_tfif",
      "execution_count": null,
      "outputs": []
    },
    {
      "cell_type": "markdown",
      "id": "04957a96-be88-4d0d-8578-234094fb71b4",
      "metadata": {
        "id": "04957a96-be88-4d0d-8578-234094fb71b4"
      },
      "source": [
        ":<div style=\"background-color: #008000; padding: 10px; border: 1px solid #000000;\">\n",
        "Question(1) : Pensez-vous que les données sont au bon format pour entrainer un reseau de neurone dans le dataframe X, pourquoi ?\n",
        "</div>"
      ]
    },
    {
      "cell_type": "markdown",
      "id": "a02ac168-3e48-472e-be87-42345bd4a6b0",
      "metadata": {
        "id": "a02ac168-3e48-472e-be87-42345bd4a6b0"
      },
      "source": [
        "REPONSE: Non, les variables ne sont pas au bon format pour entrainer un réseau de neuronnes. Les modalités sont au format texte, hors nous avons besoin de modalités au format numérique pour entrainer un réseau de neuronnes. Nous devons donc les convertir au format numérique."
      ]
    },
    {
      "cell_type": "markdown",
      "source": [],
      "metadata": {
        "id": "BMmciPBhtjzY"
      },
      "id": "BMmciPBhtjzY"
    },
    {
      "cell_type": "code",
      "execution_count": null,
      "id": "b1819717-c07f-4ee9-a15a-34e2e50f8479",
      "metadata": {
        "tags": [],
        "id": "b1819717-c07f-4ee9-a15a-34e2e50f8479"
      },
      "outputs": [],
      "source": [
        "# transformer les données X : tips => https://pandas.pydata.org/pandas-docs/stable/reference/api/pandas.get_dummies.html"
      ]
    },
    {
      "cell_type": "code",
      "execution_count": null,
      "id": "b3782188-02bd-4c0f-944e-6d426c4310a0",
      "metadata": {
        "tags": [],
        "id": "b3782188-02bd-4c0f-944e-6d426c4310a0"
      },
      "outputs": [],
      "source": [
        "X = TODO"
      ]
    },
    {
      "cell_type": "markdown",
      "id": "65a3a883-c507-4198-a5af-e29825201949",
      "metadata": {
        "id": "65a3a883-c507-4198-a5af-e29825201949"
      },
      "source": [
        "### Create a Neural Network with Keras of size 16 x 8 x 1"
      ]
    },
    {
      "cell_type": "code",
      "execution_count": null,
      "id": "76f847b9-3853-46cc-b461-29cdc9030016",
      "metadata": {
        "tags": [],
        "id": "76f847b9-3853-46cc-b461-29cdc9030016"
      },
      "outputs": [],
      "source": [
        "# Define the input layer\n",
        "#inputs = keras.layers.Input\n",
        "\n",
        "# Define the hidden layers\n",
        "#x = keras.layers.Dense\n",
        "\n",
        "# Define the output layer\n",
        "# outputs = keras.layers.Dense\n",
        "\n",
        "# Create the model\n",
        "# model = keras.Model(inputs=inputs, outputs=outputs)\n",
        "\n",
        "# Compile the model\n",
        "# model.compile\n",
        "\n",
        "# Summary of the model\n",
        "model.summary()\n",
        "\n",
        "\n",
        "# Train the model\n",
        "history = model.fit(X.astype(float), y.to_numpy(), epochs=10, batch_size=16)\n",
        "\n",
        "px.line(history.history[\"loss\"], width=900, markers=True).show()\n",
        "\n",
        "print(f\"MSE : {np.mean((model.predict(X_n).ravel() - y)**2)}\")"
      ]
    },
    {
      "cell_type": "markdown",
      "id": "fbdd614a-353f-4753-8aa8-ed584ea2d1b5",
      "metadata": {
        "tags": [],
        "id": "fbdd614a-353f-4753-8aa8-ed584ea2d1b5"
      },
      "source": [
        "<div style=\"background-color: #008000; padding: 10px; border: 1px solid #000000;\">\n",
        "Question(2) : Que constatez vous ? la courbe de la fonction de loss vous semble elle normal ? pourquoi ?  \n",
        "</div>"
      ]
    },
    {
      "cell_type": "markdown",
      "id": "a1fdbb80-05ba-4c75-8142-30595cc18da9",
      "metadata": {
        "id": "a1fdbb80-05ba-4c75-8142-30595cc18da9"
      },
      "source": [
        "REPONSE:"
      ]
    },
    {
      "cell_type": "markdown",
      "id": "a04b363c-5d3d-40ca-b102-8d3673538b8d",
      "metadata": {
        "id": "a04b363c-5d3d-40ca-b102-8d3673538b8d"
      },
      "source": [
        "### Normaliser les donnée en Deep Learning"
      ]
    },
    {
      "cell_type": "markdown",
      "id": "ec7db4f7-32ff-4c8a-a58c-0d7defdd1701",
      "metadata": {
        "id": "ec7db4f7-32ff-4c8a-a58c-0d7defdd1701"
      },
      "source": [
        "La normalisation des données est cruciale en deep learning pour plusieurs raisons :\n",
        "\n",
        "- Stabilité numérique : La normalisation aide à éviter les problèmes de stabilité numérique, notamment les gradients explosifs ou vanissants, en maintenant les valeurs des données dans une plage plus gérable.\n",
        "\n",
        "- Équité des caractéristiques : En normalisant les données, chaque caractéristique contribue de manière égale à la prédiction finale, évitant ainsi que certaines caractéristiques dominent les autres en raison de leur échelle."
      ]
    },
    {
      "cell_type": "code",
      "execution_count": null,
      "id": "d0e07c92-3fa5-4372-87b7-c2dc61f6ba8b",
      "metadata": {
        "tags": [],
        "id": "d0e07c92-3fa5-4372-87b7-c2dc61f6ba8b"
      },
      "outputs": [],
      "source": [
        "# créeons un Z-Score\n",
        "# Normalize the data\n",
        "X = X.astype(float)\n",
        "X_n = (X - X.min()) / (X.max() - X.min())"
      ]
    },
    {
      "cell_type": "code",
      "execution_count": null,
      "id": "91b51d53-6898-41f5-9a92-0637e2dba069",
      "metadata": {
        "tags": [],
        "id": "91b51d53-6898-41f5-9a92-0637e2dba069"
      },
      "outputs": [],
      "source": [
        "# afficher X_n\n"
      ]
    },
    {
      "cell_type": "code",
      "execution_count": null,
      "id": "f261ebb2-0054-46dd-ad38-80394e6143d4",
      "metadata": {
        "tags": [],
        "id": "f261ebb2-0054-46dd-ad38-80394e6143d4"
      },
      "outputs": [],
      "source": [
        "# et refaites votre reseau avec X_n au lieu de X"
      ]
    },
    {
      "cell_type": "code",
      "execution_count": null,
      "id": "9a37ce41-fbef-49fa-930c-880c23a5c9e9",
      "metadata": {
        "id": "9a37ce41-fbef-49fa-930c-880c23a5c9e9"
      },
      "outputs": [],
      "source": [
        "TODO"
      ]
    },
    {
      "cell_type": "markdown",
      "id": "e284e5d3-79d8-4136-be69-e458ec22c4e9",
      "metadata": {
        "tags": [],
        "id": "e284e5d3-79d8-4136-be69-e458ec22c4e9"
      },
      "source": [
        "<div style=\"background-color: #008000; padding: 10px; border: 1px solid #000000;\">\n",
        "Question(3) : Que constatez vous ?\n",
        "</div>"
      ]
    },
    {
      "cell_type": "markdown",
      "id": "fac712af-67fe-4d9b-99c1-0d0ddd560615",
      "metadata": {
        "id": "fac712af-67fe-4d9b-99c1-0d0ddd560615"
      },
      "source": [
        "REPONSE:"
      ]
    },
    {
      "cell_type": "code",
      "execution_count": null,
      "id": "a37198e8-cf18-4975-bcfa-9251eab97529",
      "metadata": {
        "id": "a37198e8-cf18-4975-bcfa-9251eab97529"
      },
      "outputs": [],
      "source": []
    }
  ],
  "metadata": {
    "kernelspec": {
      "display_name": "Python 3 (ipykernel)",
      "language": "python",
      "name": "python3"
    },
    "language_info": {
      "codemirror_mode": {
        "name": "ipython",
        "version": 3
      },
      "file_extension": ".py",
      "mimetype": "text/x-python",
      "name": "python",
      "nbconvert_exporter": "python",
      "pygments_lexer": "ipython3",
      "version": "3.10.14"
    },
    "colab": {
      "provenance": []
    }
  },
  "nbformat": 4,
  "nbformat_minor": 5
}